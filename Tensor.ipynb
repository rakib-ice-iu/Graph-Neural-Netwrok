{
  "nbformat": 4,
  "nbformat_minor": 0,
  "metadata": {
    "colab": {
      "provenance": []
    },
    "kernelspec": {
      "name": "python3",
      "display_name": "Python 3"
    },
    "language_info": {
      "name": "python"
    }
  },
  "cells": [
    {
      "cell_type": "markdown",
      "source": [
        "# A tensor is a n-dimensional array with n>2"
      ],
      "metadata": {
        "id": "o-R-M7MNhkha"
      }
    },
    {
      "cell_type": "code",
      "execution_count": 1,
      "metadata": {
        "id": "ngkOE2lse4nk"
      },
      "outputs": [],
      "source": [
        "import numpy as np"
      ]
    },
    {
      "cell_type": "code",
      "source": [
        "x = np.array([[[1,2,3],\n",
        "               [3,4,5],\n",
        "               [7,8,9]],\n",
        "              [[10,11,12],\n",
        "               [13,14,15],\n",
        "               [15,16,17]],\n",
        "              [[18,19,20],\n",
        "               [21,22,23],\n",
        "               [24,25,26]]])"
      ],
      "metadata": {
        "id": "gV7MRJaCh8vy"
      },
      "execution_count": 5,
      "outputs": []
    },
    {
      "cell_type": "code",
      "source": [
        "x"
      ],
      "metadata": {
        "colab": {
          "base_uri": "https://localhost:8080/"
        },
        "id": "mzTSCjMCiv7y",
        "outputId": "fab53c29-dd0c-4bf8-d6bc-764842b49030"
      },
      "execution_count": 3,
      "outputs": [
        {
          "output_type": "execute_result",
          "data": {
            "text/plain": [
              "array([[[ 1,  2,  3],\n",
              "        [ 3,  4,  5],\n",
              "        [ 7,  8,  9]],\n",
              "\n",
              "       [[10, 11, 12],\n",
              "        [13, 14, 15],\n",
              "        [15, 16, 17]],\n",
              "\n",
              "       [[18, 19, 20],\n",
              "        [21, 22, 23],\n",
              "        [24, 25, 26]]])"
            ]
          },
          "metadata": {},
          "execution_count": 3
        }
      ]
    },
    {
      "cell_type": "code",
      "source": [
        "x.shape"
      ],
      "metadata": {
        "colab": {
          "base_uri": "https://localhost:8080/"
        },
        "id": "zxOCeRz0iwin",
        "outputId": "18ce4f04-33bc-461c-d568-c50d46a78425"
      },
      "execution_count": 7,
      "outputs": [
        {
          "output_type": "execute_result",
          "data": {
            "text/plain": [
              "(3, 3, 3)"
            ]
          },
          "metadata": {},
          "execution_count": 7
        }
      ]
    },
    {
      "cell_type": "code",
      "source": [],
      "metadata": {
        "id": "h6Bj8HUqjKT_"
      },
      "execution_count": null,
      "outputs": []
    }
  ]
}